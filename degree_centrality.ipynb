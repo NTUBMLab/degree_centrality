{
  "cells": [
    {
      "cell_type": "markdown",
      "metadata": {
        "id": "zbMLmJ4VqKJ8"
      },
      "source": [
        "## Load libraries"
      ]
    },
    {
      "cell_type": "code",
      "execution_count": null,
      "metadata": {
        "id": "mLldSmIMdme9"
      },
      "outputs": [],
      "source": [
        "import numpy as np\n",
        "import plotly.express as px\n",
        "import cupy"
      ]
    },
    {
      "cell_type": "markdown",
      "source": [
        "## Create toy data"
      ],
      "metadata": {
        "id": "ZXXOoGoae32H"
      }
    },
    {
      "cell_type": "code",
      "source": [
        "# Toy data D.\n",
        "tc = np.random.rand(1,500)\n",
        "D = np.random.rand(500,100,100)\n",
        "D[:,0,0] = tc\n",
        "for i in np.arange(2,2+20):\n",
        "    for j in np.arange(2,2+20):\n",
        "        D[:,i,j] = 0 + 0.5*tc + 0.5*np.random.rand(1,500)"
      ],
      "metadata": {
        "id": "QCtUTYEgBfBW"
      },
      "execution_count": null,
      "outputs": []
    },
    {
      "cell_type": "code",
      "execution_count": null,
      "metadata": {
        "tags": [],
        "id": "rJCfi5wnXXLS"
      },
      "outputs": [],
      "source": [
        "# Show D\n",
        "fig_D_heatmap = px.imshow(D[3,:,:])\n",
        "fig_D_heatmap.show()\n",
        "fig_D_lines = go.Figure()\n",
        "fig_D_lines.add_trace(go.Scatter(x = np.arange(100), y = D[:,0,0], mode = 'lines', name = '0,0'))\n",
        "fig_D_lines.add_trace(go.Scatter(x = np.arange(100), y = D[:,2,2], mode = 'lines', name = '2,2'))\n",
        "fig_D_lines.add_trace(go.Scatter(x = np.arange(100), y = D[:,2,3], mode = 'lines', name = '2,3'))\n",
        "fig_D_lines.add_trace(go.Scatter(x = np.arange(100), y = D[:,3,2], mode = 'lines', name = '3,2'))\n",
        "fig_D_lines.add_trace(go.Scatter(x = np.arange(100), y = D[:,3,3], mode = 'lines', name = '3,3'))\n",
        "fig_D_lines.show()\n",
        "Dr = np.reshape(D,(500,100*100))\n",
        "fig_D_lines_reshape = go.Figure()\n",
        "fig_D_lines_reshape.add_trace(go.Scatter(x = np.arange(100), y = Dr[:,0], mode = 'lines', name = '0,0'))\n",
        "fig_D_lines_reshape.add_trace(go.Scatter(x = np.arange(100), y = Dr[:,202], mode = 'lines', name = '2,2'))\n",
        "fig_D_lines_reshape.add_trace(go.Scatter(x = np.arange(100), y = Dr[:,203], mode = 'lines', name = '2,3'))\n",
        "fig_D_lines_reshape.add_trace(go.Scatter(x = np.arange(100), y = Dr[:,302], mode = 'lines', name = '3,2'))\n",
        "fig_D_lines_reshape.add_trace(go.Scatter(x = np.arange(100), y = Dr[:,303], mode = 'lines', name = '3,3'))\n",
        "fig_D_lines_reshape.show()"
      ]
    },
    {
      "cell_type": "code",
      "execution_count": null,
      "metadata": {
        "id": "e4pjILvNXXLT"
      },
      "outputs": [],
      "source": [
        "D = np.reshape(D,(D.shape[0],D.shape[1]*D.shape[2]))"
      ]
    },
    {
      "cell_type": "code",
      "execution_count": null,
      "metadata": {
        "id": "rFBrBTOszm7I",
        "tags": []
      },
      "outputs": [],
      "source": [
        "# Degree centrality (with GPU)\n",
        "# Make batch indices\n",
        "batch = dict()\n",
        "Y = cupy.asarray(D)\n",
        "\n",
        "# Set up batches\n",
        "nbatch = 100 # currently recommend 256.\n",
        "#nbatch = 2\n",
        "[i,j]=Y.shape\n",
        "batch_size=np.intc(j/nbatch)\n",
        "vox_range=np.array([0])\n",
        "b=0\n",
        "while vox_range[-1]+1 <= j:\n",
        "  if vox_range[-1]+1+batch_size > j:\n",
        "    vox_range=np.arange(vox_range[-1]+1,j+1)\n",
        "  else:\n",
        "    vox_range=np.arange(vox_range[-1]+1,vox_range[-1]+1+batch_size)\n",
        "  batch.update({b:vox_range-1})\n",
        "  b += 1\n",
        "\n",
        "DC = np.zeros(j)\n",
        "linelength = 1"
      ]
    },
    {
      "cell_type": "code",
      "execution_count": null,
      "metadata": {
        "colab": {
          "referenced_widgets": [
            "3d7673d495f640b0988973bfaa5bbc60",
            "d6c09fc73a9c4b8fb2b3ddb06ec1c372"
          ],
          "base_uri": "https://localhost:8080/",
          "height": 34
        },
        "id": "jTDaaVchXXLT",
        "outputId": "cc4b3ea0-2729-4b01-f76d-96762c8df0ae"
      },
      "outputs": [
        {
          "output_type": "display_data",
          "data": {
            "text/plain": [
              "Output()"
            ],
            "application/vnd.jupyter.widget-view+json": {
              "version_major": 2,
              "version_minor": 0,
              "model_id": "3d7673d495f640b0988973bfaa5bbc60"
            }
          },
          "metadata": {}
        }
      ],
      "source": [
        "def update_out(bcount,batch):\n",
        "    out.clear_output()\n",
        "    with out:\n",
        "        print('Progress: Batch '+str(bcount)+'/'+str(len(batch)**2))\n",
        "\n",
        "out = widgets.Output()\n",
        "out"
      ]
    },
    {
      "cell_type": "code",
      "execution_count": null,
      "metadata": {
        "id": "a7SlF2Q_ctVu",
        "scrolled": true,
        "tags": []
      },
      "outputs": [],
      "source": [
        "# Loop through batches\n",
        "bcount = 1\n",
        "\n",
        "for b_col in np.arange(len(batch)):\n",
        "    # Compute correlations\n",
        "    R = cupy.zeros([j,batch_size])\n",
        "    for b_row in np.arange(len(batch)):\n",
        "        update_out(bcount,batch)\n",
        "        bcount += 1\n",
        "        R[batch[b_row],:] = cupy.corrcoef(Y[:,batch[b_row]],Y[:,batch[b_col]],rowvar=False)[len(batch[b_row]):len(batch[b_row])*2,0:len(batch[b_row])].T\n",
        "    I = np.concatenate((np.zeros([batch_size*(b_col),batch_size]),np.eye(batch_size),np.zeros([batch_size*(nbatch-b_col-1),batch_size])),axis=0)==1\n",
        "    R[I] = cupy.nan\n",
        "    DC[batch[b_col]] = cupy.asnumpy(cupy.nanmean(cupy.arctanh(R),axis=0))"
      ]
    },
    {
      "cell_type": "code",
      "execution_count": null,
      "metadata": {
        "id": "kWXaz515XxU9"
      },
      "outputs": [],
      "source": [
        "eDC = np.reshape(DC,(100,100))\n",
        "fig1 = px.imshow(eDC,range_color=(0.015,0.05))\n",
        "#fig1 = px.imshow(eDC)\n",
        "fig1.show()"
      ]
    },
    {
      "cell_type": "code",
      "execution_count": null,
      "metadata": {
        "id": "bnlKp3BLXXLV"
      },
      "outputs": [],
      "source": [
        "eD = np.reshape(np.sum(D,axis=0),(100,100))\n",
        "#fig_eD = px.imshow(eD,range_color=(50000,100000))\n",
        "fig_eD = px.imshow(eD)\n",
        "fig_eD.show()"
      ]
    }
  ],
  "metadata": {
    "accelerator": "GPU",
    "colab": {
      "collapsed_sections": [
        "zbMLmJ4VqKJ8"
      ],
      "provenance": [],
      "toc_visible": true
    },
    "gpuClass": "standard",
    "kernelspec": {
      "display_name": "Python 3 (ipykernel)",
      "language": "python",
      "name": "python3"
    },
    "language_info": {
      "codemirror_mode": {
        "name": "ipython",
        "version": 3
      },
      "file_extension": ".py",
      "mimetype": "text/x-python",
      "name": "python",
      "nbconvert_exporter": "python",
      "pygments_lexer": "ipython3",
      "version": "3.9.13"
    },
    "widgets": {
      "application/vnd.jupyter.widget-state+json": {
        "3d7673d495f640b0988973bfaa5bbc60": {
          "model_module": "@jupyter-widgets/output",
          "model_name": "OutputModel",
          "model_module_version": "1.0.0",
          "state": {
            "_dom_classes": [],
            "_model_module": "@jupyter-widgets/output",
            "_model_module_version": "1.0.0",
            "_model_name": "OutputModel",
            "_view_count": null,
            "_view_module": "@jupyter-widgets/output",
            "_view_module_version": "1.0.0",
            "_view_name": "OutputView",
            "layout": "IPY_MODEL_d6c09fc73a9c4b8fb2b3ddb06ec1c372",
            "msg_id": "",
            "outputs": [
              {
                "output_type": "stream",
                "name": "stdout",
                "text": [
                  "Progress: Batch 10000/10000\n"
                ]
              }
            ]
          }
        },
        "d6c09fc73a9c4b8fb2b3ddb06ec1c372": {
          "model_module": "@jupyter-widgets/base",
          "model_name": "LayoutModel",
          "model_module_version": "1.2.0",
          "state": {
            "_model_module": "@jupyter-widgets/base",
            "_model_module_version": "1.2.0",
            "_model_name": "LayoutModel",
            "_view_count": null,
            "_view_module": "@jupyter-widgets/base",
            "_view_module_version": "1.2.0",
            "_view_name": "LayoutView",
            "align_content": null,
            "align_items": null,
            "align_self": null,
            "border": null,
            "bottom": null,
            "display": null,
            "flex": null,
            "flex_flow": null,
            "grid_area": null,
            "grid_auto_columns": null,
            "grid_auto_flow": null,
            "grid_auto_rows": null,
            "grid_column": null,
            "grid_gap": null,
            "grid_row": null,
            "grid_template_areas": null,
            "grid_template_columns": null,
            "grid_template_rows": null,
            "height": null,
            "justify_content": null,
            "justify_items": null,
            "left": null,
            "margin": null,
            "max_height": null,
            "max_width": null,
            "min_height": null,
            "min_width": null,
            "object_fit": null,
            "object_position": null,
            "order": null,
            "overflow": null,
            "overflow_x": null,
            "overflow_y": null,
            "padding": null,
            "right": null,
            "top": null,
            "visibility": null,
            "width": null
          }
        }
      }
    }
  },
  "nbformat": 4,
  "nbformat_minor": 0
}